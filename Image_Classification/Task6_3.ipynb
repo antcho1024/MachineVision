{
  "nbformat": 4,
  "nbformat_minor": 0,
  "metadata": {
    "colab": {
      "private_outputs": true,
      "provenance": []
    },
    "kernelspec": {
      "name": "python3",
      "display_name": "Python 3"
    },
    "language_info": {
      "name": "python"
    },
    "accelerator": "GPU"
  },
  "cells": [
    {
      "cell_type": "code",
      "execution_count": null,
      "metadata": {
        "id": "IXC10OpLuPti"
      },
      "outputs": [],
      "source": [
        "import tensorflow as tf\n",
        "import numpy as np\n",
        "from google.colab.patches import cv_imshow \n",
        "import matplotlib.pyplot as plt"
      ]
    },
    {
      "cell_type": "code",
      "source": [
        "(train_X, train_Y), (test_X, test_Y) = tf.keras.datasets.cifar10.load_data() \n",
        "print(train_X.shape, test_X.shape)"
      ],
      "metadata": {
        "id": "0GR9Lvbsvi_U"
      },
      "execution_count": null,
      "outputs": []
    },
    {
      "cell_type": "code",
      "source": [
        "train_X = tf.keras.applications.vgg16.preprocess_input(train_X) \n",
        "test_X = tf.keras.applications.vgg16.preprocess_input(test_X)"
      ],
      "metadata": {
        "id": "hzz5Rn-TvX7b"
      },
      "execution_count": null,
      "outputs": []
    },
    {
      "cell_type": "markdown",
      "source": [
        "**(1)**"
      ],
      "metadata": {
        "id": "tEI9ls_tv58I"
      }
    },
    {
      "cell_type": "code",
      "source": [
        "index=[]\n",
        "for i in range(len(train_Y)):\n",
        "    if train_Y[i]==0 or train_Y[i]==1 or train_Y[i]==8:\n",
        "        index.append(i)\n",
        "\n",
        "y_train=[]\n",
        "x_train=[]\n",
        "\n",
        "for i in range(len(train_Y)):\n",
        "    if i in index:\n",
        "        x_train.append(train_X[i])\n",
        "        y_train.append(train_Y[i])"
      ],
      "metadata": {
        "id": "r3MKwiIpv8M1"
      },
      "execution_count": null,
      "outputs": []
    },
    {
      "cell_type": "code",
      "source": [
        "for i in range(len(y_train)):\n",
        "    if y_train[i]==0:\n",
        "        y_train[i]=0\n",
        "    elif y_train[i]==1:\n",
        "        y_train[i]=1\n",
        "    elif y_train[i]==8:\n",
        "        y_train[i]=8"
      ],
      "metadata": {
        "id": "130EgSVowIVL"
      },
      "execution_count": null,
      "outputs": []
    },
    {
      "cell_type": "code",
      "source": [
        "index=[]\n",
        "for i in range(len(test_Y)):\n",
        "    if test_Y[i]==0 or test_Y[i]==1 or test_Y[i]==8:\n",
        "        index.append(i)\n",
        "        \n",
        "x_test=[]\n",
        "y_test=[]\n",
        "\n",
        "for i in range(len(test_Y)):\n",
        "    if i in index:\n",
        "        x_test.append(test_X[i])\n",
        "        y_test.append(test_Y[i])"
      ],
      "metadata": {
        "id": "uCPpEBmXwQwn"
      },
      "execution_count": null,
      "outputs": []
    },
    {
      "cell_type": "code",
      "source": [
        "for i in range(len(y_test)):\n",
        "    if y_test[i]==0:\n",
        "        y_test[i]=0\n",
        "    elif y_test[i]==1:\n",
        "        y_test[i]=1\n",
        "    elif y_test[i]==8:\n",
        "        y_test[i]=8"
      ],
      "metadata": {
        "id": "-1WbHrkUwYLJ"
      },
      "execution_count": null,
      "outputs": []
    },
    {
      "cell_type": "markdown",
      "source": [
        "**(2)**"
      ],
      "metadata": {
        "id": "4c_Sl0cJweYk"
      }
    },
    {
      "cell_type": "code",
      "source": [
        "model = tf.keras.applications.VGG16(include_top=False) \n",
        "model.summary()"
      ],
      "metadata": {
        "id": "HuxQNBNjwdDC"
      },
      "execution_count": null,
      "outputs": []
    },
    {
      "cell_type": "code",
      "source": [
        "base_model = tf.keras.applications.VGG16(input_shape=[32,32,3],\n",
        "                                         include_top=False, weights='imagenet')\n",
        "\n",
        "x = base_model.output\n",
        "x = tf.keras.layers.Flatten()(x)\n",
        "x = tf.keras.layers.Dense(64, activation='relu')(x)\n",
        "predictions = tf.keras.layers.Dense(10, activation='softmax')(x)\n",
        "model = tf.keras.Model(inputs=base_model.input, outputs=predictions)"
      ],
      "metadata": {
        "id": "rkUdJ8lNxr8k"
      },
      "execution_count": null,
      "outputs": []
    },
    {
      "cell_type": "markdown",
      "source": [
        "**(3)**"
      ],
      "metadata": {
        "id": "HmjvJFqiyhQh"
      }
    },
    {
      "cell_type": "code",
      "source": [
        "for layer in model.layers[:19]: \n",
        "    layer.trainable = False\n",
        "for layer in model.layers[19:]: \n",
        "    layer.trainable = True\n",
        "model.summary()"
      ],
      "metadata": {
        "id": "cNjRcsmxyeJe"
      },
      "execution_count": null,
      "outputs": []
    },
    {
      "cell_type": "code",
      "source": [
        "model.compile(optimizer=tf.keras.optimizers.Adam(), \n",
        "              loss='sparse_categorical_crossentropy', metrics=['accuracy'])"
      ],
      "metadata": {
        "id": "liw8nAjGyokC"
      },
      "execution_count": null,
      "outputs": []
    },
    {
      "cell_type": "code",
      "source": [
        "arr_train_x = np.array(x_train)\n",
        "arr_train_y = np.array(y_train)\n",
        "arr_test_x = np.array(x_test)\n",
        "arr_test_y = np.array(y_test)"
      ],
      "metadata": {
        "id": "KfYDAe9Cy7pJ"
      },
      "execution_count": null,
      "outputs": []
    },
    {
      "cell_type": "code",
      "source": [
        "history = model.fit(arr_train_x, arr_train_y, batch_size=36, epochs=10, validation_split=0.25)"
      ],
      "metadata": {
        "id": "3jwBvy_6yzFo"
      },
      "execution_count": null,
      "outputs": []
    },
    {
      "cell_type": "code",
      "source": [
        "model.evaluate(arr_test_x, arr_test_y, verbose=False)"
      ],
      "metadata": {
        "id": "eDbr2AKWy2v9"
      },
      "execution_count": null,
      "outputs": []
    },
    {
      "cell_type": "markdown",
      "source": [
        "**(4)**"
      ],
      "metadata": {
        "id": "bDsd8gdAzMJI"
      }
    },
    {
      "cell_type": "code",
      "source": [
        "for layer in model.layers: \n",
        "    layer.trainable = True\n",
        "model.summary()"
      ],
      "metadata": {
        "id": "Umxj6SoyzOeZ"
      },
      "execution_count": null,
      "outputs": []
    },
    {
      "cell_type": "code",
      "source": [
        "model.compile(optimizer=tf.keras.optimizers.Adam(), \n",
        "              loss='sparse_categorical_crossentropy', metrics=['accuracy'])\n",
        "history = model.fit(arr_train_x, arr_train_y, batch_size=36, epochs=10, validation_split=0.25)"
      ],
      "metadata": {
        "id": "W8XZr8tF0PId"
      },
      "execution_count": null,
      "outputs": []
    },
    {
      "cell_type": "code",
      "source": [
        "model.evaluate(arr_test_x, arr_test_y, verbose=False)"
      ],
      "metadata": {
        "id": "B1RJHqJd0ZpB"
      },
      "execution_count": null,
      "outputs": []
    },
    {
      "cell_type": "code",
      "source": [],
      "metadata": {
        "id": "Es4IMqdy01dJ"
      },
      "execution_count": null,
      "outputs": []
    }
  ]
}