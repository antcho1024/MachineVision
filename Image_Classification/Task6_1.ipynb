{
  "nbformat": 4,
  "nbformat_minor": 0,
  "metadata": {
    "colab": {
      "private_outputs": true,
      "provenance": []
    },
    "kernelspec": {
      "name": "python3",
      "display_name": "Python 3"
    },
    "language_info": {
      "name": "python"
    },
    "accelerator": "GPU"
  },
  "cells": [
    {
      "cell_type": "code",
      "execution_count": null,
      "metadata": {
        "id": "7iRlUrwBhzrQ"
      },
      "outputs": [],
      "source": [
        "import tensorflow as tf\n",
        "import matplotlib.pyplot as plt\n",
        "import numpy as np\n",
        "import pandas as pd"
      ]
    },
    {
      "cell_type": "code",
      "source": [
        "fashion_mnist = tf.keras.datasets.fashion_mnist\n",
        "(train_X, train_Y), (test_X, test_Y) = fashion_mnist.load_data()"
      ],
      "metadata": {
        "id": "wLm_ctqDiLcq"
      },
      "execution_count": null,
      "outputs": []
    },
    {
      "cell_type": "code",
      "source": [
        "train_X = train_X / 255.0 \n",
        "test_X = test_X / 255.0"
      ],
      "metadata": {
        "id": "OI6YMpnvQs8G"
      },
      "execution_count": null,
      "outputs": []
    },
    {
      "cell_type": "markdown",
      "source": [
        "**(1)**"
      ],
      "metadata": {
        "id": "U6I0nV1MTbqa"
      }
    },
    {
      "cell_type": "markdown",
      "source": [
        "1 : Trouser\n",
        "4 : Coat\n",
        "7 : Sneaker\n",
        "8 : Bag"
      ],
      "metadata": {
        "id": "sYvTt_iIkEl1"
      }
    },
    {
      "cell_type": "code",
      "source": [
        "index=[]\n",
        "for i in range(len(train_Y)):\n",
        "    if train_Y[i]==1 or train_Y[i]==4 or train_Y[i]==7 or train_Y[i]== 8:\n",
        "        index.append(i)\n",
        "\n",
        "y_train=[]\n",
        "x_train=[]\n",
        "\n",
        "for i in range(len(train_Y)):\n",
        "    if i in index:\n",
        "        x_train.append(train_X[i])\n",
        "        y_train.append(train_Y[i])"
      ],
      "metadata": {
        "id": "8jL4Q3TAR7yb"
      },
      "execution_count": null,
      "outputs": []
    },
    {
      "cell_type": "code",
      "source": [
        "for i in range(len(y_train)):\n",
        "    if y_train[i]==1:\n",
        "        y_train[i]=0\n",
        "    elif y_train[i]==4:\n",
        "        y_train[i]=1\n",
        "    elif y_train[i]==7:\n",
        "        y_train[i]=2\n",
        "    elif y_train[i]==8:\n",
        "        y_train[i]=3"
      ],
      "metadata": {
        "id": "flXiaVSqijg-"
      },
      "execution_count": null,
      "outputs": []
    },
    {
      "cell_type": "code",
      "source": [
        "print(len(x_train))\n",
        "print(len(y_train))"
      ],
      "metadata": {
        "id": "fnH5xa09hDA3"
      },
      "execution_count": null,
      "outputs": []
    },
    {
      "cell_type": "code",
      "source": [
        "index=[]\n",
        "for i in range(len(test_Y)):\n",
        "    if test_Y[i]==1 or test_Y[i]==4 or test_Y[i]==7 or test_Y[i]== 8:\n",
        "        index.append(i)\n",
        "        \n",
        "x_test=[]\n",
        "y_test=[]\n",
        "\n",
        "for i in range(len(test_Y)):\n",
        "    if i in index:\n",
        "        x_test.append(test_X[i])\n",
        "        y_test.append(test_Y[i])"
      ],
      "metadata": {
        "id": "wKupREN4sw3l"
      },
      "execution_count": null,
      "outputs": []
    },
    {
      "cell_type": "code",
      "source": [
        "for i in range(len(y_test)):\n",
        "    if y_test[i]==1:\n",
        "        y_test[i]=0\n",
        "    elif y_test[i]==4:\n",
        "        y_test[i]=1\n",
        "    elif y_test[i]==7:\n",
        "        y_test[i]=2\n",
        "    elif y_test[i]==8:\n",
        "        y_test[i]=3"
      ],
      "metadata": {
        "id": "TJty1WweS4wY"
      },
      "execution_count": null,
      "outputs": []
    },
    {
      "cell_type": "code",
      "source": [
        "arr_train_x = np.array(x_train)\n",
        "arr_test_x = np.array(x_test)"
      ],
      "metadata": {
        "id": "-NJeAILonivM"
      },
      "execution_count": null,
      "outputs": []
    },
    {
      "cell_type": "markdown",
      "source": [
        "**(2)**"
      ],
      "metadata": {
        "id": "KYyzmo6lThid"
      }
    },
    {
      "cell_type": "code",
      "source": [
        "train_Yc = tf.keras.utils.to_categorical(y_train, num_classes=4) \n",
        "test_Yc = tf.keras.utils.to_categorical(y_test, num_classes=4)"
      ],
      "metadata": {
        "id": "-lBtYhViTC9S"
      },
      "execution_count": null,
      "outputs": []
    },
    {
      "cell_type": "code",
      "source": [
        "model = tf.keras.Sequential([ \n",
        "    tf.keras.layers.Flatten(input_shape=(28,28)), \n",
        "    tf.keras.layers.Dense(units=128, activation='relu'), \n",
        "    tf.keras.layers.Dense(units=64, activation='relu'), \n",
        "    tf.keras.layers.Dense(units=32, activation='relu'), \n",
        "    tf.keras.layers.Dense(units=4)\n",
        "    ])\n",
        "model.summary()"
      ],
      "metadata": {
        "id": "nXCTHwAmTNqj"
      },
      "execution_count": null,
      "outputs": []
    },
    {
      "cell_type": "markdown",
      "source": [
        "**(3)**"
      ],
      "metadata": {
        "id": "JOIOgov1T6V8"
      }
    },
    {
      "cell_type": "code",
      "source": [
        "model.compile(optimizer=tf.keras.optimizers.SGD(), \n",
        "              loss = 'mean_squared_error',\n",
        "              metrics = ['accuracy'])"
      ],
      "metadata": {
        "id": "Mj3O_djFTxwX"
      },
      "execution_count": null,
      "outputs": []
    },
    {
      "cell_type": "code",
      "source": [
        "history = model.fit(arr_train_x, train_Yc, batch_size=36, epochs=10)"
      ],
      "metadata": {
        "id": "Uw9KJY9HUceJ"
      },
      "execution_count": null,
      "outputs": []
    },
    {
      "cell_type": "code",
      "source": [
        "model.evaluate(arr_test_x, test_Yc)"
      ],
      "metadata": {
        "id": "3kz_MszKUgIv"
      },
      "execution_count": null,
      "outputs": []
    },
    {
      "cell_type": "markdown",
      "source": [
        "**(4)** \n",
        " Trouser, Coat, Sneaker, Bag"
      ],
      "metadata": {
        "id": "J9dJJTAwmBZG"
      }
    },
    {
      "cell_type": "code",
      "source": [
        "#Trouser\n",
        "img = arr_test_x[62]\n",
        "pred = model.predict(tf.expand_dims(img, axis=0)) \n",
        "plt.imshow(img,'gray')\n",
        "print(y_test[62], pred)"
      ],
      "metadata": {
        "id": "PzRAT0k5mTWR"
      },
      "execution_count": null,
      "outputs": []
    },
    {
      "cell_type": "code",
      "source": [
        "#coat\n",
        "img = arr_test_x[500]\n",
        "pred = model.predict(tf.expand_dims(img, axis=0)) \n",
        "plt.imshow(img,'gray')\n",
        "print(y_test[500], pred)"
      ],
      "metadata": {
        "id": "dZimOMJBmOiL"
      },
      "execution_count": null,
      "outputs": []
    },
    {
      "cell_type": "code",
      "source": [
        "#Sneaker\n",
        "img = arr_test_x[70]\n",
        "pred = model.predict(tf.expand_dims(img, axis=0)) \n",
        "plt.imshow(img,'gray')\n",
        "print(y_test[70], pred)"
      ],
      "metadata": {
        "id": "zBqfdHp4ldVi"
      },
      "execution_count": null,
      "outputs": []
    },
    {
      "cell_type": "code",
      "source": [
        "#bag\n",
        "img = arr_test_x[550]\n",
        "pred = model.predict(tf.expand_dims(img, axis=0)) \n",
        "plt.imshow(img,'gray')\n",
        "print(y_test[550], pred)"
      ],
      "metadata": {
        "id": "ECXRUhWLl_7t"
      },
      "execution_count": null,
      "outputs": []
    },
    {
      "cell_type": "code",
      "source": [],
      "metadata": {
        "id": "ysb-pBTnm9Mp"
      },
      "execution_count": null,
      "outputs": []
    }
  ]
}