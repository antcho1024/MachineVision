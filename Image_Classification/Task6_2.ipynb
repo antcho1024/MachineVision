{
  "nbformat": 4,
  "nbformat_minor": 0,
  "metadata": {
    "colab": {
      "private_outputs": true,
      "provenance": []
    },
    "kernelspec": {
      "name": "python3",
      "display_name": "Python 3"
    },
    "language_info": {
      "name": "python"
    }
  },
  "cells": [
    {
      "cell_type": "code",
      "execution_count": null,
      "metadata": {
        "id": "Au3obBYzpWTR"
      },
      "outputs": [],
      "source": [
        "import tensorflow as tf\n",
        "import matplotlib.pyplot as plt\n",
        "import numpy as np"
      ]
    },
    {
      "cell_type": "code",
      "source": [
        "fashion_mnist = tf.keras.datasets.fashion_mnist\n",
        "(train_X, train_Y), (test_X, test_Y) = fashion_mnist.load_data()"
      ],
      "metadata": {
        "id": "qTEHQjMlpeZS"
      },
      "execution_count": null,
      "outputs": []
    },
    {
      "cell_type": "code",
      "source": [
        "train_X = train_X / 255.0 \n",
        "test_X = test_X / 255.0"
      ],
      "metadata": {
        "id": "1XNN93CvpgKj"
      },
      "execution_count": null,
      "outputs": []
    },
    {
      "cell_type": "markdown",
      "source": [
        "**(1)**"
      ],
      "metadata": {
        "id": "QzPlt1tSs5xs"
      }
    },
    {
      "cell_type": "code",
      "source": [
        "index=[]\n",
        "for i in range(len(train_Y)):\n",
        "    if train_Y[i]==1 or train_Y[i]==4 or train_Y[i]==7 or train_Y[i]== 8:\n",
        "        index.append(i)\n",
        "\n",
        "y_train=[]\n",
        "x_train=[]\n",
        "\n",
        "for i in range(len(train_Y)):\n",
        "    if i in index:\n",
        "        x_train.append(train_X[i])\n",
        "        y_train.append(train_Y[i])"
      ],
      "metadata": {
        "id": "rX4lAUagphg7"
      },
      "execution_count": null,
      "outputs": []
    },
    {
      "cell_type": "code",
      "source": [
        "for i in range(len(y_train)):\n",
        "    if y_train[i]==1:\n",
        "        y_train[i]=0\n",
        "    elif y_train[i]==4:\n",
        "        y_train[i]=1\n",
        "    elif y_train[i]==7:\n",
        "        y_train[i]=2\n",
        "    elif y_train[i]==8:\n",
        "        y_train[i]=3"
      ],
      "metadata": {
        "id": "bC00BSi7pjhl"
      },
      "execution_count": null,
      "outputs": []
    },
    {
      "cell_type": "code",
      "source": [
        "index=[]\n",
        "for i in range(len(test_Y)):\n",
        "    if test_Y[i]==1 or test_Y[i]==4 or test_Y[i]==7 or test_Y[i]== 8:\n",
        "        index.append(i)\n",
        "        \n",
        "x_test=[]\n",
        "y_test=[]\n",
        "\n",
        "for i in range(len(test_Y)):\n",
        "    if i in index:\n",
        "        x_test.append(test_X[i])\n",
        "        y_test.append(test_Y[i])"
      ],
      "metadata": {
        "id": "Q8i7zulCplNr"
      },
      "execution_count": null,
      "outputs": []
    },
    {
      "cell_type": "code",
      "source": [
        "for i in range(len(y_test)):\n",
        "    if y_test[i]==1:\n",
        "        y_test[i]=0\n",
        "    elif y_test[i]==4:\n",
        "        y_test[i]=1\n",
        "    elif y_test[i]==7:\n",
        "        y_test[i]=2\n",
        "    elif y_test[i]==8:\n",
        "        y_test[i]=3"
      ],
      "metadata": {
        "id": "EL7NtrgzpmxO"
      },
      "execution_count": null,
      "outputs": []
    },
    {
      "cell_type": "code",
      "source": [
        "arr_train_x = np.array(x_train)\n",
        "arr_train_y = np.array(y_train)\n",
        "arr_test_x = np.array(x_test)\n",
        "arr_test_y = np.array(y_test)"
      ],
      "metadata": {
        "id": "eVTnxR7mt5OC"
      },
      "execution_count": null,
      "outputs": []
    },
    {
      "cell_type": "markdown",
      "source": [
        "**(2)**"
      ],
      "metadata": {
        "id": "hn8descus9WS"
      }
    },
    {
      "cell_type": "code",
      "source": [
        "model = tf.keras.Sequential([ \n",
        "    tf.keras.layers.Conv2D(input_shape=(28,28,1), kernel_size=(5,5),\n",
        "                           strides=(1, 1), padding='same', filters=20), \n",
        "    tf.keras.layers.Activation('relu'),\n",
        "    tf.keras.layers.MaxPooling2D(pool_size=(2,2), strides=(2,2), padding='valid'), \n",
        "    tf.keras.layers.Conv2D(kernel_size=(5,5),\n",
        "                           strides=(1, 1), padding='same', filters=50), tf.keras.layers.Activation('relu'),\n",
        "    tf.keras.layers.MaxPooling2D(pool_size=(2,2), strides=(2,2), padding='valid'), tf.keras.layers.Flatten(),\n",
        "    tf.keras.layers.Dense(units=500),\n",
        "    tf.keras.layers.Activation('relu'),\n",
        "    tf.keras.layers.Dense(units=4),\n",
        "    tf.keras.layers.Softmax() \n",
        "    ])"
      ],
      "metadata": {
        "id": "pjjZfx2npoYH"
      },
      "execution_count": null,
      "outputs": []
    },
    {
      "cell_type": "markdown",
      "source": [
        "**(3)**"
      ],
      "metadata": {
        "id": "yVsLMRostgNM"
      }
    },
    {
      "cell_type": "code",
      "source": [
        "model.compile(optimizer=tf.keras.optimizers.Adam(),\n",
        "              loss='sparse_categorical_crossentropy',\n",
        "              metrics=['accuracy'])"
      ],
      "metadata": {
        "id": "kEewPRlfq5sv"
      },
      "execution_count": null,
      "outputs": []
    },
    {
      "cell_type": "code",
      "source": [
        "history = model.fit(arr_train_x, arr_train_y, batch_size=36, epochs=10, validation_split=0.25)"
      ],
      "metadata": {
        "id": "IznA2rD8rIvc"
      },
      "execution_count": null,
      "outputs": []
    },
    {
      "cell_type": "code",
      "source": [
        "model.evaluate(arr_test_x, arr_test_y, verbose=False)"
      ],
      "metadata": {
        "id": "jozf-kspsGdu"
      },
      "execution_count": null,
      "outputs": []
    },
    {
      "cell_type": "markdown",
      "source": [
        "**(4)**"
      ],
      "metadata": {
        "id": "gjF_LpFQt76z"
      }
    },
    {
      "cell_type": "code",
      "source": [
        "img = arr_test_x[62]\n",
        "pre_img = tf.expand_dims(img, axis=0) \n",
        "pre_img = pre_img/255\n",
        "pred = model.predict(pre_img) \n",
        "plt.imshow(img,'gray')\n",
        "np.argmax(pred)"
      ],
      "metadata": {
        "id": "XV3HQwxLsPtx"
      },
      "execution_count": null,
      "outputs": []
    },
    {
      "cell_type": "code",
      "source": [
        "img = arr_test_x[500]\n",
        "pre_img = tf.expand_dims(img, axis=0) \n",
        "pre_img = pre_img/255\n",
        "pred = model.predict(pre_img) \n",
        "plt.imshow(img,'gray')\n",
        "np.argmax(pred)"
      ],
      "metadata": {
        "id": "vld38gFHsoK2"
      },
      "execution_count": null,
      "outputs": []
    },
    {
      "cell_type": "code",
      "source": [
        "img = arr_test_x[70]\n",
        "pre_img = tf.expand_dims(img, axis=0) \n",
        "pre_img = pre_img/255\n",
        "pred = model.predict(pre_img) \n",
        "plt.imshow(img,'gray')\n",
        "np.argmax(pred)"
      ],
      "metadata": {
        "id": "lJUTIKhEsz4F"
      },
      "execution_count": null,
      "outputs": []
    },
    {
      "cell_type": "code",
      "source": [
        "img = arr_test_x[550]\n",
        "pre_img = tf.expand_dims(img, axis=0) \n",
        "pre_img = pre_img/255\n",
        "pred = model.predict(pre_img) \n",
        "plt.imshow(img,'gray')\n",
        "np.argmax(pred)"
      ],
      "metadata": {
        "id": "Z1_EOK-Rs2p7"
      },
      "execution_count": null,
      "outputs": []
    },
    {
      "cell_type": "code",
      "source": [],
      "metadata": {
        "id": "ILvlgb-wtxab"
      },
      "execution_count": null,
      "outputs": []
    }
  ]
}