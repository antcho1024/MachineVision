{
  "nbformat": 4,
  "nbformat_minor": 0,
  "metadata": {
    "colab": {
      "name": "CameraCalibration_AR.ipynb",
      "private_outputs": true,
      "provenance": [],
      "collapsed_sections": [],
      "authorship_tag": "ABX9TyMB92w64Gpjie2lVq5RXrME",
      "include_colab_link": true
    },
    "kernelspec": {
      "name": "python3",
      "display_name": "Python 3"
    },
    "language_info": {
      "name": "python"
    }
  },
  "cells": [
    {
      "cell_type": "markdown",
      "metadata": {
        "id": "view-in-github",
        "colab_type": "text"
      },
      "source": [
        "<a href=\"https://colab.research.google.com/github/antcho1024/CameraCalibration_SimpleAR/blob/main/CameraCalibration_AR.ipynb\" target=\"_parent\"><img src=\"https://colab.research.google.com/assets/colab-badge.svg\" alt=\"Open In Colab\"/></a>"
      ]
    },
    {
      "cell_type": "code",
      "source": [
        "from google.colab import drive\n",
        "drive.mount('/content/gdrive')"
      ],
      "metadata": {
        "id": "Lxl9Z-libOd7"
      },
      "execution_count": null,
      "outputs": []
    },
    {
      "cell_type": "code",
      "source": [
        "import numpy as np\n",
        "import cv2 as cv\n",
        "import glob\n",
        "from google.colab.patches import cv_imshow\n",
        "\n",
        "# Termination criteria\n",
        "criteria = (cv.TERM_CRITERIA_EPS + cv.TERM_CRITERIA_MAX_ITER, 30, 0.001) \n",
        "# Prepare object points, like (0,0,0), (1,0,0), (2,0,0) ....,(6,5,0)\n",
        "objp = np.zeros((6*8,3), np.float32)                            \n",
        "objp[:,:2] = np.mgrid[0:8,0:6].T.reshape(-1,2)\n",
        "# Arrays to store object points and image points from all the images. \n",
        "objpoints = [] # 3d point in real world space\n",
        "imgpoints = [] # 2d points in image plane.\n",
        "images = glob.glob('/content/gdrive/MyDrive/MachineVision/KakaoTalk_Photo_2022*.jpeg')\n"
      ],
      "metadata": {
        "id": "dyx09dp6cC6I"
      },
      "execution_count": null,
      "outputs": []
    },
    {
      "cell_type": "code",
      "source": [
        "for fname in images:\n",
        "    img = cv.imread(fname)\n",
        "    #print(img)\n",
        "    #print(img.shape)\n",
        "    gray = cv.cvtColor(img, cv.COLOR_BGR2GRAY)\n",
        "    # Find the chess board corners\n",
        "    ret, corners = cv.findChessboardCorners(gray, (8,6), None)\n",
        "    # If found, add object points, image points (after refining them) \n",
        "    if ret == True:\n",
        "        objpoints.append(objp)\n",
        "        corners2 = cv.cornerSubPix(gray,corners, (11,11), (-1,-1), criteria) \n",
        "        imgpoints.append(corners)\n",
        "        # Draw and display the corners\n",
        "        cv.drawChessboardCorners(img, (8,6), corners2, ret) \n",
        "        cv_imshow(img)"
      ],
      "metadata": {
        "id": "jguu4V7odBOl"
      },
      "execution_count": null,
      "outputs": []
    },
    {
      "cell_type": "code",
      "source": [
        "ret, mtx, dist, rvecs, tvecs = cv.calibrateCamera(objpoints, imgpoints, gray.shape[::-1],None,None)"
      ],
      "metadata": {
        "id": "oESFLLomd04Y"
      },
      "execution_count": null,
      "outputs": []
    },
    {
      "cell_type": "code",
      "source": [
        "mtx"
      ],
      "metadata": {
        "id": "PGxGsE03nQxD"
      },
      "execution_count": null,
      "outputs": []
    },
    {
      "cell_type": "code",
      "source": [
        "rvecs"
      ],
      "metadata": {
        "id": "9bdtp4GEQJg1"
      },
      "execution_count": null,
      "outputs": []
    },
    {
      "cell_type": "code",
      "source": [
        "tvecs"
      ],
      "metadata": {
        "id": "MZfXQVATQMFP"
      },
      "execution_count": null,
      "outputs": []
    },
    {
      "cell_type": "code",
      "source": [
        "def draw(img, corners, imgpts):\n",
        "    imgpts = np.int32(imgpts).reshape(-1,2)\n",
        "    # draw ground floor in green\n",
        "    img = cv.drawContours(img, [imgpts[:4]],-1,(0,255,0),-3) \n",
        "    # draw pillars in blue color\n",
        "    for i,j in zip(range(4),range(4,8)):\n",
        "        img = cv.line(img, tuple(imgpts[i]), tuple(imgpts[j]),(255,0,0),3) \n",
        "    # draw top layer in red color\n",
        "    img = cv.drawContours(img, [imgpts[4:]],-1,(0,0,255),3)\n",
        "    return img"
      ],
      "metadata": {
        "id": "jlK7-AkpQN6s"
      },
      "execution_count": null,
      "outputs": []
    },
    {
      "cell_type": "code",
      "source": [
        "axis = np.float32([[0,0,0], [0,3,0], [3,3,0], [3,0,0], [0,0,-3],[0,3,-3],[3,3,-3],[3,0,-3] ])\n",
        "i=0\n",
        "for fname in glob.glob ('/content/gdrive/MyDrive/MachineVision/KakaoTalk_Photo_2022*.jpeg'):\n",
        "    img = cv.imread(fname)\n",
        "    gray = cv.cvtColor(img,cv.COLOR_BGR2GRAY)\n",
        "    ret, corners = cv.findChessboardCorners(gray, (8,6),None) \n",
        "    if ret == True:\n",
        "        # project 3D points to image plane\n",
        "        imgpts, jac = cv.projectPoints(axis, rvecs[i], tvecs[i], mtx, dist) \n",
        "        i=i+1\n",
        "        img = draw(img,corners2,imgpts) \n",
        "        cv_imshow(img)"
      ],
      "metadata": {
        "id": "jzJZ5OmqT8Mr"
      },
      "execution_count": null,
      "outputs": []
    },
    {
      "cell_type": "code",
      "source": [
        ""
      ],
      "metadata": {
        "id": "ejUDDTfYUWUI"
      },
      "execution_count": null,
      "outputs": []
    }
  ]
}