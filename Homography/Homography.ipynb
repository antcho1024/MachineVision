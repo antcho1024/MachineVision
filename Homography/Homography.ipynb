{
  "nbformat": 4,
  "nbformat_minor": 0,
  "metadata": {
    "colab": {
      "private_outputs": true,
      "provenance": []
    },
    "kernelspec": {
      "name": "python3",
      "display_name": "Python 3"
    },
    "language_info": {
      "name": "python"
    }
  },
  "cells": [
    {
      "cell_type": "code",
      "execution_count": null,
      "metadata": {
        "id": "aWltYUnU90NG"
      },
      "outputs": [],
      "source": [
        "from google.colab import drive\n",
        "drive.mount('/content/gdrive')"
      ]
    },
    {
      "cell_type": "code",
      "source": [
        "import cv2 as cv\n",
        "import numpy as np\n",
        "from google.colab.patches import cv_imshow\n",
        "\n",
        "im_src_big = cv.imread('/content/gdrive/MyDrive/MachineVision/me.jpeg');\n",
        "im_dst_big = cv.imread('/content/gdrive/MyDrive/MachineVision/Frame.png');"
      ],
      "metadata": {
        "id": "Zya3kSRf907s"
      },
      "execution_count": null,
      "outputs": []
    },
    {
      "cell_type": "code",
      "source": [
        "cv_imshow(im_dst_big)"
      ],
      "metadata": {
        "id": "hEn4NWe4_RTC"
      },
      "execution_count": null,
      "outputs": []
    },
    {
      "cell_type": "code",
      "source": [
        "im_src = cv.resize(im_src_big, dsize=(640, 480), interpolation=cv.INTER_CUBIC)\n",
        "im_dst = cv.resize(im_dst_big, dsize=(640, 480), interpolation=cv.INTER_CUBIC)"
      ],
      "metadata": {
        "id": "82pKDWyc_pvp"
      },
      "execution_count": null,
      "outputs": []
    },
    {
      "cell_type": "code",
      "source": [
        "#cv_imshow(im_src)\n",
        "#im_dst.shape\n",
        "size = im_src.shape\n",
        "size[0]"
      ],
      "metadata": {
        "id": "o8ao0XQU_-C6"
      },
      "execution_count": null,
      "outputs": []
    },
    {
      "cell_type": "code",
      "source": [
        "x = np.array([[0,0,1], [size[1]-1,0,1], [size[1]-1,size[0]-1,1],[0,size[0]-1,1]])\n",
        "x_ = np.array([[10,10,1],[630,10,1],[630,470,1],[10,470,1]])"
      ],
      "metadata": {
        "id": "JPkVD2SwA7Ib"
      },
      "execution_count": null,
      "outputs": []
    },
    {
      "cell_type": "code",
      "source": [
        "A1 = np.hstack((np.zeros((len(x_),3)), -np.expand_dims(x_[:,2],axis=1)*x,np.expand_dims(x_[:,1],axis=1)*x))\n",
        "A2 = np.hstack((np.expand_dims(x_[:,2],axis=1)*x, np.zeros((len(x_),3)),-np.expand_dims(x_[:,0],axis=1)*x))\n",
        "A = np.vstack((A1, A2))\n",
        "u, s, vh = np.linalg.svd(A, full_matrices=True) \n",
        "h = vh[-1,:]/vh[-1,-1];\n",
        "h = np.reshape(h,(3,3))"
      ],
      "metadata": {
        "id": "bjwAp_uFMSrz"
      },
      "execution_count": null,
      "outputs": []
    },
    {
      "cell_type": "code",
      "source": [
        "pts_dst = np.array([[10,10],[630,10],[630,470],[10,470]],dtype=float);"
      ],
      "metadata": {
        "id": "gaNMcb-uNlxf"
      },
      "execution_count": null,
      "outputs": []
    },
    {
      "cell_type": "code",
      "source": [
        "im_temp = cv.warpPerspective(im_src, h, (im_dst.shape[1],im_dst.shape[0])) \n",
        "cv.fillConvexPoly(im_dst, pts_dst.astype(int), 0);"
      ],
      "metadata": {
        "id": "4Dh48ZjaCDKl"
      },
      "execution_count": null,
      "outputs": []
    },
    {
      "cell_type": "code",
      "source": [
        "cv_imshow(im_dst);"
      ],
      "metadata": {
        "id": "1hs7k2R667bU"
      },
      "execution_count": null,
      "outputs": []
    },
    {
      "cell_type": "code",
      "source": [
        "im_dst = im_dst + im_temp;\n",
        "cv_imshow(im_dst);"
      ],
      "metadata": {
        "id": "O8fQp38oCJPC"
      },
      "execution_count": null,
      "outputs": []
    },
    {
      "cell_type": "code",
      "source": [],
      "metadata": {
        "id": "4Yb1Rd0N7Z17"
      },
      "execution_count": null,
      "outputs": []
    }
  ]
}