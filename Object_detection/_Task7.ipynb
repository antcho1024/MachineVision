{
  "nbformat": 4,
  "nbformat_minor": 0,
  "metadata": {
    "colab": {
      "private_outputs": true,
      "provenance": []
    },
    "kernelspec": {
      "name": "python3",
      "display_name": "Python 3"
    },
    "language_info": {
      "name": "python"
    },
    "accelerator": "GPU",
    "gpuClass": "standard"
  },
  "cells": [
    {
      "cell_type": "code",
      "execution_count": null,
      "metadata": {
        "id": "98H_3eFqiyUs"
      },
      "outputs": [],
      "source": [
        "# Import libraries\n",
        "import numpy as np \n",
        "import tensorflow as tf \n",
        "import cv2 as cv \n",
        "import random\n",
        "from google.colab.patches import cv_imshow \n",
        "import matplotlib.pyplot as plt"
      ]
    },
    {
      "cell_type": "code",
      "source": [
        "# Generate training images and labels\n",
        "N=2000 \n",
        "H,W=256,256\n",
        "train_img=np.zeros([N,H,W,3],dtype=np.uint8) \n",
        "train_img.fill(255) \n",
        "train_label_coord=np.zeros([N,2],dtype=np.int32) \n",
        "train_label_size=np.zeros([N,2],dtype=np.int32) \n",
        "train_label_class=np.zeros([N,1],dtype=np.int32) #color"
      ],
      "metadata": {
        "id": "v9KWJdmCjA-Y"
      },
      "execution_count": null,
      "outputs": []
    },
    {
      "cell_type": "code",
      "source": [
        "for n in range(N):\n",
        "    x,y=random.randint(0,W-1),random.randint(0,H-1) \n",
        "    bw,bh=random.randint(int(W/16),int(W/4)),random.randint(int(H/16),int(H/4))\n",
        "    \n",
        "    if(x-bw/2<0): x=x-(x-bw/2) \n",
        "    elif(x+bw/2>W-1): x=x-(x+bw/2-(W-1)) \n",
        "    if(y-bh/2<0): y=y-(y-bh/2) \n",
        "    elif(y+bh/2>H-1): y=y-(y+bh/2-(H-1))\n",
        "    \n",
        "    x=int(x); y=int(y)\n",
        "    train_label_coord[n,0]=x; train_label_coord[n,1]=y \n",
        "    train_label_size[n,0]=bw; train_label_size[n,1]=bh \n",
        "    train_label_class[n]=random.randint(0,3) # 0: red, 1: green, 2: blue, 3: yellow\n",
        "\n",
        "    if train_label_class[n]==0: # red \n",
        "        cv.rectangle(train_img[n],(x-int(bw/2),y-int(bh/2)),(x+int(bw/2),y+int(bh/2)), color=(0,0,255), thickness=-1)\n",
        "    elif train_label_class[n]==1: # green\n",
        "        cv.rectangle(train_img[n],(x-int(bw/2),y-int(bh/2)),(x+int(bw/2),y+int(bh/2)), color=(0,255,0), thickness=-1)\n",
        "    elif train_label_class[n]==2: # blue\n",
        "        cv.rectangle(train_img[n],(x-int(bw/2),y-int(bh/2)),(x+int(bw/2),y+int(bh/2)), color=(255,0,0), thickness=-1)\n",
        "    else: # yellow \n",
        "        cv.rectangle(train_img[n],(x-int(bw/2),y-int(bh/2)),(x+int(bw/2),y+int(bh/2)), color=(0,255,255), thickness=-1)\n"
      ],
      "metadata": {
        "id": "RwmpXr4HjQUe"
      },
      "execution_count": null,
      "outputs": []
    },
    {
      "cell_type": "code",
      "source": [
        "# Display some images\n",
        "for n in range(8): \n",
        "    cv_imshow(train_img[n])"
      ],
      "metadata": {
        "id": "EEKgOrQImt7N"
      },
      "execution_count": null,
      "outputs": []
    },
    {
      "cell_type": "code",
      "source": [
        "# Preprocess data\n",
        "train_img = tf.keras.applications.vgg16.preprocess_input(train_img)\n",
        "\n",
        "train_label_coord=train_label_coord.astype(np.float32) \n",
        "train_label_coord[:,0]=train_label_coord[:,0]/W \n",
        "train_label_coord[:,1]=train_label_coord[:,1]/H \n",
        "train_label_size=train_label_size.astype(np.float32) \n",
        "train_label_size[:,0]=train_label_size[:,0]/(W/4) \n",
        "train_label_size[:,1]=train_label_size[:,1]/(H/4)"
      ],
      "metadata": {
        "id": "15HRPdo2m0l8"
      },
      "execution_count": null,
      "outputs": []
    },
    {
      "cell_type": "code",
      "source": [
        "# Build model\n",
        "base_model = tf.keras.applications.VGG16(input_shape=[H,W,3], include_top=False, weights='imagenet')\n",
        "x = base_model.output\n",
        "x = tf.keras.layers.Flatten()(x) \n",
        "out_coord=tf.keras.layers.Dense(2,activation='sigmoid',name='out_coord')(x) \n",
        "out_size=tf.keras.layers.Dense(2, activation='sigmoid',name='out_size')(x) \n",
        "out_class=tf.keras.layers.Dense(4,activation='softmax',name='out_class')(x) \n",
        "\n",
        "model=tf.keras.Model(inputs=base_model.input,outputs=[out_coord,out_size,out_class]) \n",
        "model.summary()"
      ],
      "metadata": {
        "id": "tRVRc0_knwrs"
      },
      "execution_count": null,
      "outputs": []
    },
    {
      "cell_type": "code",
      "source": [
        "# Custom loss functions\n",
        "def coord_loss_func(y_true,y_pred): \n",
        "    loss_coord=tf.keras.losses.mean_squared_error(y_true,y_pred) \n",
        "    return loss_coord\n",
        "def size_loss_func(y_true,y_pred): \n",
        "    loss_size=tf.keras.losses.mean_squared_error(y_true,y_pred) \n",
        "    return loss_size\n",
        "def class_loss_func(y_true,y_pred): \n",
        "    loss_class=tf.keras.losses.sparse_categorical_crossentropy(y_true,y_pred) \n",
        "    return loss_class"
      ],
      "metadata": {
        "id": "LnKng9n5n-gV"
      },
      "execution_count": null,
      "outputs": []
    },
    {
      "cell_type": "code",
      "source": [
        "# Train and save model\n",
        "model.compile(optimizer=tf.keras.optimizers.Adam(learning_rate=0.0001),\n",
        "              loss={'out_coord':coord_loss_func,'out_size':size_loss_func,'out_class':class_loss_func},\n",
        "              loss_weights={'out_coord':4,'out_size':1,'out_class':1}) "
      ],
      "metadata": {
        "id": "YmHP0ZLtoa5k"
      },
      "execution_count": null,
      "outputs": []
    },
    {
      "cell_type": "code",
      "source": [
        "model.summary()"
      ],
      "metadata": {
        "id": "sd6nOYd10gsg"
      },
      "execution_count": null,
      "outputs": []
    },
    {
      "cell_type": "code",
      "source": [
        "history = model.fit(x=train_img,\n",
        "                    y={'out_coord':train_label_coord,'out_size':train_label_size,'out_class':train_label_class},\n",
        "                    epochs=20,batch_size=50,validation_split=0.25) \n",
        "model.save('model')"
      ],
      "metadata": {
        "id": "4udNoTSEMYd3"
      },
      "execution_count": null,
      "outputs": []
    },
    {
      "cell_type": "code",
      "source": [
        "# Generate test images and labels\n",
        "N=20\n",
        "H,W=256,256 \n",
        "test_img=np.zeros([N,H,W,3],dtype=np.uint8) \n",
        "test_img.fill(255) \n",
        "test_label_coord=np.zeros([N,2],dtype=np.int32) \n",
        "test_label_size=np.zeros([N,2],dtype=np.int32) \n",
        "test_label_class=np.zeros([N,1],dtype=np.int32)"
      ],
      "metadata": {
        "id": "qqxRXvtWKypA"
      },
      "execution_count": null,
      "outputs": []
    },
    {
      "cell_type": "code",
      "source": [
        "for n in range(N):\n",
        "    x,y=random.randint(0,W-1),random.randint(0,H-1) \n",
        "    bw,bh=random.randint(int(W/16),int(W/4)),random.randint(int(H/16),int(H/4))\n",
        "\n",
        "    if(x-bw/2<0): x=x-(x-bw/2)\n",
        "    elif(x+bw/2>W-1):  x=x-(x+bw/2-(W-1))\n",
        "    if(y-bh/2<0):  y=y-(y-bh/2)\n",
        "    elif(y+bh/2>H-1): y=y-(y+bh/2-(H-1))\n",
        "\n",
        "    x=int(x); y=int(y)\n",
        "    test_label_coord[n,0]=x; test_label_coord[n,1]=y\n",
        "    test_label_size[n,0]=bw; test_label_size[n,1]=bh \n",
        "    test_label_class[n]=random.randint(0,3) # color    \n",
        "\n",
        "    if test_label_class[n]==0: \n",
        "        cv.rectangle(test_img[n],(x-int(bw/2),y-int(bh/2)),(x+int(bw/2),y+int(bh/2)), color=(0,0,255),thickness=-1)\n",
        "    elif train_label_class[n]==1: \n",
        "        cv.rectangle(test_img[n],(x-int(bw/2),y-int(bh/2)),(x+int(bw/2),y+int(bh/2)), color=(0,255,0),thickness=-1)\n",
        "    elif train_label_class[n]==2: \n",
        "        cv.rectangle(test_img[n],(x-int(bw/2),y-int(bh/2)),(x+int(bw/2),y+int(bh/2)), color=(255,0,0),thickness=-1)\n",
        "    else: \n",
        "        cv.rectangle(test_img[n],(x-int(bw/2),y-int(bh/2)),(x+int(bw/2),y+int(bh/2)), color=(0,255,255),thickness=-1)"
      ],
      "metadata": {
        "id": "SYtNEpYlNtKU"
      },
      "execution_count": null,
      "outputs": []
    },
    {
      "cell_type": "code",
      "source": [
        "# Preprocess test images\n",
        "test_img_ = tf.keras.applications.vgg16.preprocess_input(test_img)\n",
        "# Predict object locations in test images\n",
        "model=tf.keras.models.load_model('model', \n",
        "                                 custom_objects={'coord_loss_func':coord_loss_func,\n",
        "                                                 'size_loss_func':size_loss_func, \n",
        "                                                 'class_loss_func':class_loss_func})\n",
        "\n",
        "pred_coord,pred_size,pred_class=model.predict(test_img_) \n",
        "pred_coord[:,0]=pred_coord[:,0]*H \n",
        "pred_coord[:,1]=pred_coord[:,1]*W \n",
        "pred_size[:,0]=pred_size[:,0]*(H/4) \n",
        "pred_size[:,1]=pred_size[:,1]*(W/4) \n",
        "pred_class=np.argmax(pred_class,axis=1)"
      ],
      "metadata": {
        "id": "erUlegTnO_qq"
      },
      "execution_count": null,
      "outputs": []
    },
    {
      "cell_type": "code",
      "source": [
        "# Display prediction results\n",
        "for n in range(N): \n",
        "    x=pred_coord[n,0].astype('int') \n",
        "    y=pred_coord[n,1].astype('int') \n",
        "    bw=pred_size[n,0].astype('int') \n",
        "    bh=pred_size[n,1].astype('int') \n",
        "    obj_class=pred_class[n]\n",
        "\n",
        "    if obj_class==0:\n",
        "        cv.rectangle(test_img[n],(x-int(bw/2),y-int(bh/2)),(x+int(bw/2),y+int(bh/2)),color=(0,0,0),thickness=1)\n",
        "        cv.rectangle(test_img[n],(0,0),(W-1,H-1),color=(0,0,255),thickness=1)\n",
        "\n",
        "    elif obj_class==1: \n",
        "        cv.rectangle(test_img[n],(x-int(bw/2),y-int(bh/2)),(x+int(bw/2),y+int(bh/2)),color=(0,0,0),thickness=1)\n",
        "        cv.rectangle(test_img[n],(0,0),(W-1,H-1),color=(0,255,0),thickness=1)\n",
        "    elif obj_class==2:\n",
        "        cv.rectangle(test_img[n],(x-int(bw/2),y-int(bh/2)),(x+int(bw/2),y+int(bh/2)),color=(0,0,0),thickness=1)\n",
        "        cv.rectangle(test_img[n],(0,0),(W-1,H-1),color=(255,0,0),thickness=1)\n",
        "    else: # ellipse \n",
        "        cv.rectangle(test_img[n],(x-int(bw/2),y-int(bh/2)),(x+int(bw/2),y+int(bh/2)),color=(0,0,0),thickness=1)\n",
        "        cv.rectangle(test_img[n],(0,0),(W-1,H-1),color=(0,255,255),thickness=1)\n",
        "\n",
        "    cv.circle(test_img[n],center=(x,y),radius=2,color=(0,0,0),thickness=2) \n",
        "    cv_imshow(test_img[n])"
      ],
      "metadata": {
        "id": "btc2R-dIP30M"
      },
      "execution_count": null,
      "outputs": []
    },
    {
      "cell_type": "code",
      "source": [],
      "metadata": {
        "id": "HPl9WEIux-Mm"
      },
      "execution_count": null,
      "outputs": []
    }
  ]
}