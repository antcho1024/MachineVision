{
  "nbformat": 4,
  "nbformat_minor": 0,
  "metadata": {
    "colab": {
      "name": "\bMachineVision2.ipynb",
      "private_outputs": true,
      "provenance": [],
      "authorship_tag": "ABX9TyOGYKXYCXC+BB5xygw9nt7O",
      "include_colab_link": true
    },
    "kernelspec": {
      "name": "python3",
      "display_name": "Python 3"
    },
    "language_info": {
      "name": "python"
    }
  },
  "cells": [
    {
      "cell_type": "markdown",
      "metadata": {
        "id": "view-in-github",
        "colab_type": "text"
      },
      "source": [
        "<a href=\"https://colab.research.google.com/github/antcho1024/ImageFiltering/blob/main/%08MachineVision2.ipynb\" target=\"_parent\"><img src=\"https://colab.research.google.com/assets/colab-badge.svg\" alt=\"Open In Colab\"/></a>"
      ]
    },
    {
      "cell_type": "code",
      "execution_count": null,
      "metadata": {
        "id": "OlybT29YrCWM"
      },
      "outputs": [],
      "source": [
        "from google.colab import drive\n",
        "drive.mount('/content/gdrive')"
      ]
    },
    {
      "cell_type": "markdown",
      "source": [
        "**< Average filtering >**\n",
        "- kernel 3x3\n",
        "- kernel 5x5\n",
        "- kernel 7x7"
      ],
      "metadata": {
        "id": "QTUeGTtvrwJ2"
      }
    },
    {
      "cell_type": "code",
      "source": [
        "import cv2 as cv\n",
        "from google.colab.patches import cv_imshow\n",
        "original = cv.imread('/content/gdrive/MyDrive/MachineVision/OriginalIMG.jpeg')\n",
        "\n",
        "blur_3 = cv.blur(original, ksize=(3,3))\n",
        "blur_5 = cv.blur(original, ksize=(5,5))\n",
        "blur_7 = cv.blur(original, ksize=(7,7))\n",
        "cv_imshow(original) \n",
        "cv_imshow(blur_3)\n",
        "cv_imshow(blur_5)\n",
        "cv_imshow(blur_7)"
      ],
      "metadata": {
        "id": "Q8TCZePjrRFR"
      },
      "execution_count": null,
      "outputs": []
    },
    {
      "cell_type": "markdown",
      "source": [
        "**< Image Sharpening >**\n",
        "\n",
        "a = 2, 5, 10 "
      ],
      "metadata": {
        "id": "7WiOZY27wUfs"
      }
    },
    {
      "cell_type": "code",
      "source": [
        "import numpy as np\n",
        "\n",
        "detail = np.int32(original) - np.int32(blur_7)\n",
        "shapened_2 = np.int32(original) + 2*detail\n",
        "shapened_5 = np.int32(original) + 5*detail\n",
        "shapened_10 = np.int32(original) + 10*detail\n",
        "\n",
        "cv_imshow(shapened_2)\n",
        "cv_imshow(shapened_5)\n",
        "cv_imshow(shapened_10)"
      ],
      "metadata": {
        "id": "u1GHuJd-sixr"
      },
      "execution_count": null,
      "outputs": []
    },
    {
      "cell_type": "markdown",
      "source": [
        "**Gaussian filter**\n"
      ],
      "metadata": {
        "id": "d-SBMUCNz2wu"
      }
    },
    {
      "cell_type": "code",
      "source": [
        "#1D Gaussian filter 만들기\n",
        "kernel1d = cv.getGaussianKernel(7,2)\n",
        "print(kernel1d)"
      ],
      "metadata": {
        "id": "xPolPH5bw4qz"
      },
      "execution_count": null,
      "outputs": []
    },
    {
      "cell_type": "code",
      "source": [
        "#2D Gaussian filter 만들기\n",
        "kernel2d = np.outer(kernel1d, kernel1d.transpose())\n",
        "print(kernel2d)"
      ],
      "metadata": {
        "id": "gusL-6c307Vh"
      },
      "execution_count": null,
      "outputs": []
    },
    {
      "cell_type": "code",
      "source": [
        "#2D Gaussian filter 이용하여 필터링\n",
        "gaussian_2d = cv.filter2D(original, -1, kernel2d)\n",
        "cv_imshow(gaussian_2d)"
      ],
      "metadata": {
        "id": "ceHNflA-1O_6"
      },
      "execution_count": null,
      "outputs": []
    },
    {
      "cell_type": "code",
      "source": [
        "#1D Gaussian filter 두번 이용하여 필터링\n",
        "gaussian_1d_tmp = cv.filter2D(original, -1, kernel1d)\n",
        "gaussian_1d = cv.filter2D(gaussian_1d_tmp, -1, kernel1d.transpose())\n",
        "cv_imshow(gaussian_1d)"
      ],
      "metadata": {
        "id": "Xla-ANGw2h1F"
      },
      "execution_count": null,
      "outputs": []
    },
    {
      "cell_type": "code",
      "source": [
        "#두 필터의 결과가 같은지 비교\n",
        "difference = cv.subtract(gaussian_1d, gaussian_2d)\n",
        "print(difference)"
      ],
      "metadata": {
        "id": "mK2UOHnq3Kcn"
      },
      "execution_count": null,
      "outputs": []
    },
    {
      "cell_type": "markdown",
      "source": [
        "**Median Filter**\n",
        "\n",
        "salt and pepper noise 추가 후 Median filter 적용"
      ],
      "metadata": {
        "id": "qXeNuSjk60DB"
      }
    },
    {
      "cell_type": "code",
      "source": [
        "#salt and pepper noise 추가하는 함수\n",
        "def addsaltandpeppernoise(image,ratio): \n",
        "    row,col,ch = image.shape\n",
        "    out = np.copy(image)\n",
        "    # Salt mode\n",
        "    num_salt = np.ceil(image.size * ratio)\n",
        "    coords = [np.random.randint(0, i - 1, int(num_salt)) for i in image.shape] \n",
        "    out[coords] = 255\n",
        "    # Pepper mode\n",
        "    num_pepper = np.ceil(image.size * ratio)\n",
        "    coords = [np.random.randint(0, i - 1, int(num_pepper)) for i in image.shape] \n",
        "    out[coords] = 0\n",
        "    return out"
      ],
      "metadata": {
        "id": "QuR2g0cZ41Nv"
      },
      "execution_count": null,
      "outputs": []
    },
    {
      "cell_type": "code",
      "source": [
        "addnoise_002 = addsaltandpeppernoise(original, ratio = 0.02)\n",
        "addnoise_010 = addsaltandpeppernoise(original, ratio = 0.1)\n",
        "addnoise_025 = addsaltandpeppernoise(original, ratio = 0.25)\n",
        "cv_imshow(addnoise_002)\n",
        "cv_imshow(addnoise_010)\n",
        "cv_imshow(addnoise_025)\n"
      ],
      "metadata": {
        "id": "oUcyi-k77UXn"
      },
      "execution_count": null,
      "outputs": []
    },
    {
      "cell_type": "code",
      "source": [
        "median_002_3 = cv.medianBlur(addnoise_002, ksize=3)\n",
        "cv_imshow(median_002_3)\n",
        "#median1 = cv.medianBlur(addnoise_002, ksize=5)\n",
        "#cv_imshow(median1)\n",
        "\n",
        "#Ratio = 0.02일 때 결과 median filter size 비교 \n",
        "#3>5\n",
        "#3, 5 모두 필터링이 잘 되었음 둘다 필터링 잘 되는데 5가 조금 더 블러되어있어서 3으로 선택"
      ],
      "metadata": {
        "id": "LBKK1zzF-MYK"
      },
      "execution_count": null,
      "outputs": []
    },
    {
      "cell_type": "code",
      "source": [
        "median_010_5 = cv.medianBlur(addnoise_010, ksize=5)\n",
        "cv_imshow(median_010_5)\n",
        "#Ratio = 0.1일 때 결과 median filter size 비교 \n",
        "#3<7<5\n",
        "#3은 필터 잘 못함 5,7 모두 필터링이 잘 되었음 둘다 필터링 잘 되는데 7가 조금 더 블러되어있어서 5으로 선택"
      ],
      "metadata": {
        "id": "ku55DyG-_8Rr"
      },
      "execution_count": null,
      "outputs": []
    },
    {
      "cell_type": "code",
      "source": [
        "median_025_9 = cv.medianBlur(addnoise_025, ksize=9)\n",
        "cv_imshow(median_025_9)\n",
        "#Ratio = 0.25일 때 결과 median filter size 비교 \n",
        "#3<7<11<9\n",
        "# 3,7보다 9가 월등하게 성능이 좋았음 9와 11은 비슷했으나 더 선명한 9를 선택\n"
      ],
      "metadata": {
        "id": "QKhr1KAj79Bf"
      },
      "execution_count": null,
      "outputs": []
    },
    {
      "cell_type": "code",
      "source": [
        ""
      ],
      "metadata": {
        "id": "cVJRRhxa83cQ"
      },
      "execution_count": null,
      "outputs": []
    }
  ]
}