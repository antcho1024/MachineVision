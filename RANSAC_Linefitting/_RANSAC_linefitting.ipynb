{
  "nbformat": 4,
  "nbformat_minor": 0,
  "metadata": {
    "colab": {
      "name": "\bRANSAC_linefitting",
      "private_outputs": true,
      "provenance": [],
      "authorship_tag": "ABX9TyPD9CgvPz5mZ+a6VB/nxmiS",
      "include_colab_link": true
    },
    "kernelspec": {
      "name": "python3",
      "display_name": "Python 3"
    },
    "language_info": {
      "name": "python"
    }
  },
  "cells": [
    {
      "cell_type": "markdown",
      "metadata": {
        "id": "view-in-github",
        "colab_type": "text"
      },
      "source": [
        "<a href=\"https://colab.research.google.com/github/antcho1024/-RANSAC_linefitting/blob/main/%08RANSAC_linefitting.ipynb\" target=\"_parent\"><img src=\"https://colab.research.google.com/assets/colab-badge.svg\" alt=\"Open In Colab\"/></a>"
      ]
    },
    {
      "cell_type": "code",
      "execution_count": null,
      "metadata": {
        "id": "4wZLizAzjaod"
      },
      "outputs": [],
      "source": [
        "from google.colab import drive\n",
        "drive.mount('/content/gdrive')"
      ]
    },
    {
      "cell_type": "code",
      "source": [
        "import cv2 as cv\n",
        "import numpy as np\n",
        "from google.colab.patches import cv_imshow\n",
        "\n",
        "img = cv.imread('/content/gdrive/MyDrive/MachineVision/lanes.bmp',cv.IMREAD_GRAYSCALE)\n",
        "img1 = cv.imread('/content/gdrive/MyDrive/MachineVision/lanes.bmp',cv.IMREAD_GRAYSCALE)"
      ],
      "metadata": {
        "id": "elDaB4YFjsEh"
      },
      "execution_count": null,
      "outputs": []
    },
    {
      "cell_type": "code",
      "source": [
        "Ix = cv.Sobel(img,ddepth=cv.CV_64F,dx=1,dy=0,ksize=3)\n",
        "Iy = cv.Sobel(img,ddepth=cv.CV_64F,dx=0,dy=1,ksize=3)\n",
        "mag = np.sqrt(np.square(Ix) + np.square(Iy))\n",
        "ori = np.arctan2(Iy,Ix) * 180/np.pi"
      ],
      "metadata": {
        "id": "OvQZGDaQkYFL"
      },
      "execution_count": null,
      "outputs": []
    },
    {
      "cell_type": "code",
      "source": [
        "# display 하기 위해 값의 범위 0-255로 변경\n",
        "Ix_ = (Ix-Ix.min()) / (Ix.max()-Ix.min()) * 255\n",
        "Iy_ = (Iy-Iy.min()) / (Iy.max()-Iy.min()) * 255\n",
        "mag_ = (mag-mag.min()) / (mag.max()-mag.min()) * 255 \n",
        "ori_ = (ori-ori.min()) / (ori.max()-ori.min()) * 255"
      ],
      "metadata": {
        "id": "9vAbrm1aki91"
      },
      "execution_count": null,
      "outputs": []
    },
    {
      "cell_type": "code",
      "source": [
        "'''cv_imshow(img)\n",
        "cv_imshow(Ix_) \n",
        "cv_imshow(Iy_) \n",
        "cv_imshow(mag_) \n",
        "cv_imshow(ori_)\n",
        "'''"
      ],
      "metadata": {
        "id": "Nzy8IS2akyUw"
      },
      "execution_count": null,
      "outputs": []
    },
    {
      "cell_type": "code",
      "source": [
        "result_left = np.zeros(img.shape)\n",
        "id_L = np.where((mag>100) & (ori>30) & (ori<60)) \n",
        "result_left[id_L] = 255\n",
        "\n",
        "#cv_imshow(result_left)"
      ],
      "metadata": {
        "id": "TFXFpPIAk7e0"
      },
      "execution_count": null,
      "outputs": []
    },
    {
      "cell_type": "code",
      "source": [
        "result_right = np.zeros(img.shape)\n",
        "id_R = np.where((mag>100) & (ori>-60) & (ori<-30)) \n",
        "result_right[id_R] = 255\n",
        "\n",
        "#cv_imshow(result_right)"
      ],
      "metadata": {
        "id": "R90Ia2bqr3sr"
      },
      "execution_count": null,
      "outputs": []
    },
    {
      "cell_type": "code",
      "source": [
        "import numpy as np\n",
        "import matplotlib.pyplot as plt\n",
        "\n",
        "def f(x,a,b): \n",
        "    return a*x+b\n",
        "\n",
        "\n",
        "def ransac_line_fiting(x,y,r,t):\n",
        "    iter = np.round(np.log(1-0.999) / np.log(1-(1-r)**2) + 1) \n",
        "    num_max = 0\n",
        "    for i in np.arange(iter):\n",
        "        id = np.random.permutation(len(x))\n",
        "        xs = x[id[:2]]\n",
        "        ys = y[id[:2]]\n",
        "        A = np.vstack([xs, np.ones(len(xs))]).T\n",
        "        ab = np.dot(np.linalg.inv(np.dot(A.T, A)), np.dot(A.T, ys)) \n",
        "        dist = np.abs(ab[0]*x-y+ab[1])/np.sqrt(ab[0]**2+1) \n",
        "        numInliers = sum(dist < t)\n",
        "        if numInliers > num_max: \n",
        "            ab_max = ab\n",
        "            num_max = numInliers\n",
        "    return ab_max, num_max"
      ],
      "metadata": {
        "id": "LGA4EHiVsHI7"
      },
      "execution_count": null,
      "outputs": []
    },
    {
      "cell_type": "code",
      "source": [
        "#좌측차선 Line fitting\n",
        "abno_L, max = ransac_line_fiting(id_L[1],id_L[0],0.1,2)\n",
        "abno_L"
      ],
      "metadata": {
        "id": "aoOe4NV7tmO5"
      },
      "execution_count": null,
      "outputs": []
    },
    {
      "cell_type": "code",
      "source": [
        "id_L[1]"
      ],
      "metadata": {
        "id": "H4fCZMww7W8W"
      },
      "execution_count": null,
      "outputs": []
    },
    {
      "cell_type": "code",
      "source": [
        "img_tmp_L = img\n",
        "y=f(100,abno_L[0],abno_L[1])\n",
        "y1=f(270,abno_L[0],abno_L[1])\n",
        "result_L=cv.line(img_tmp_L,(100,int(y)),(270,int(y1)),(0,255,255),5)\n",
        "cv_imshow(result_L)"
      ],
      "metadata": {
        "id": "n9esNmuSveKY"
      },
      "execution_count": null,
      "outputs": []
    },
    {
      "cell_type": "code",
      "source": [
        "#우측차선 Line fitting\n",
        "abno_R, max = ransac_line_fiting(id_R[1],id_R[0],0.1,2)\n",
        "abno_R"
      ],
      "metadata": {
        "id": "nXNohMARzaWn"
      },
      "execution_count": null,
      "outputs": []
    },
    {
      "cell_type": "code",
      "source": [
        "id_R[1]"
      ],
      "metadata": {
        "id": "GzneIBgl9AlR"
      },
      "execution_count": null,
      "outputs": []
    },
    {
      "cell_type": "code",
      "source": [
        "img_tmp_R = img1\n",
        "y=f(385,abno_R[0],abno_R[1])\n",
        "y1=f(570,abno_R[0],abno_R[1])\n",
        "result_R=cv.line(img_tmp_R,(385,int(y)),(570,int(y1)),(0,255,0),5)\n",
        "cv_imshow(result_R)"
      ],
      "metadata": {
        "id": "s1JfmAzu6b8i"
      },
      "execution_count": null,
      "outputs": []
    },
    {
      "cell_type": "code",
      "source": [
        ""
      ],
      "metadata": {
        "id": "2M9cjtwD6uBq"
      },
      "execution_count": null,
      "outputs": []
    }
  ]
}