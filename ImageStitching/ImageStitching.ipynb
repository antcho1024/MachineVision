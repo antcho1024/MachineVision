{
  "nbformat": 4,
  "nbformat_minor": 0,
  "metadata": {
    "colab": {
      "name": "ImageStitching.ipynb",
      "private_outputs": true,
      "provenance": [],
      "authorship_tag": "ABX9TyOlxPANPXWkDJDel82YaTee",
      "include_colab_link": true
    },
    "kernelspec": {
      "name": "python3",
      "display_name": "Python 3"
    },
    "language_info": {
      "name": "python"
    }
  },
  "cells": [
    {
      "cell_type": "markdown",
      "metadata": {
        "id": "view-in-github",
        "colab_type": "text"
      },
      "source": [
        "<a href=\"https://colab.research.google.com/github/antcho1024/ImageStitching/blob/main/ImageStitching.ipynb\" target=\"_parent\"><img src=\"https://colab.research.google.com/assets/colab-badge.svg\" alt=\"Open In Colab\"/></a>"
      ]
    },
    {
      "cell_type": "code",
      "execution_count": null,
      "metadata": {
        "id": "QvZIFMYlzw9Z"
      },
      "outputs": [],
      "source": [
        "from google.colab import drive\n",
        "drive.mount('/content/gdrive')"
      ]
    },
    {
      "cell_type": "code",
      "source": [
        "import cv2 as cv\n",
        "import numpy as np\n",
        "from google.colab.patches import cv_imshow\n",
        "\n",
        "img_big = cv.imread('/content/gdrive/MyDrive/MachineVision/4_1_Ori.jpeg')"
      ],
      "metadata": {
        "id": "oEg77pZ50WB9"
      },
      "execution_count": null,
      "outputs": []
    },
    {
      "cell_type": "code",
      "source": [
        "img_big.shape"
      ],
      "metadata": {
        "id": "vH3ZujDl2VLZ"
      },
      "execution_count": null,
      "outputs": []
    },
    {
      "cell_type": "code",
      "source": [
        "img = cv.resize(img_big, dsize=(640, 480), interpolation=cv.INTER_CUBIC)"
      ],
      "metadata": {
        "id": "AM2thWhf2Xet"
      },
      "execution_count": null,
      "outputs": []
    },
    {
      "cell_type": "code",
      "source": [
        "img.shape"
      ],
      "metadata": {
        "id": "ZOuwB5vZ2lvk"
      },
      "execution_count": null,
      "outputs": []
    },
    {
      "cell_type": "code",
      "source": [
        "cv_imshow(img)"
      ],
      "metadata": {
        "id": "2vuASiM73HT2"
      },
      "execution_count": null,
      "outputs": []
    },
    {
      "cell_type": "code",
      "source": [
        "gray = cv.cvtColor(img,cv.COLOR_BGR2GRAY)\n",
        "gray = np.float32(gray)\n",
        "corners = cv.goodFeaturesToTrack(gray, maxCorners=100, qualityLevel=0.1, minDistance=10)\n",
        "for c in corners:\n",
        "    x, y = c.ravel() \n",
        "    cv.circle(img,(x,y),3,(0,0,255),-1)\n",
        "cv_imshow(img)"
      ],
      "metadata": {
        "id": "rKnpKXAO301a"
      },
      "execution_count": null,
      "outputs": []
    },
    {
      "cell_type": "code",
      "source": [
        "img_big = cv.imread('/content/gdrive/MyDrive/MachineVision/4_1_Ori.jpeg')\n",
        "img = cv.resize(img_big, dsize=(640, 480), interpolation=cv.INTER_CUBIC)"
      ],
      "metadata": {
        "id": "k9E2ioxK5yTu"
      },
      "execution_count": null,
      "outputs": []
    },
    {
      "cell_type": "code",
      "source": [
        "img = cv.rotate(img,cv.ROTATE_90_CLOCKWISE)"
      ],
      "metadata": {
        "id": "1JAHR_qG8Ml3"
      },
      "execution_count": null,
      "outputs": []
    },
    {
      "cell_type": "code",
      "source": [
        "cv_imshow(img)"
      ],
      "metadata": {
        "id": "7Vd0aO9b8dON"
      },
      "execution_count": null,
      "outputs": []
    },
    {
      "cell_type": "code",
      "source": [
        "gray = cv.cvtColor(img,cv.COLOR_BGR2GRAY)\n",
        "gray = np.float32(gray)\n",
        "corners = cv.goodFeaturesToTrack(gray, maxCorners=100, qualityLevel=0.1, minDistance=10)\n",
        "for c in corners:\n",
        "    x, y = c.ravel() \n",
        "    cv.circle(img,(x,y),3,(0,0,255),-1)\n",
        "cv_imshow(img)"
      ],
      "metadata": {
        "id": "eJ7Op98S8iLN"
      },
      "execution_count": null,
      "outputs": []
    },
    {
      "cell_type": "code",
      "source": [
        "img_big = cv.imread('/content/gdrive/MyDrive/MachineVision/4_1_Ori.jpeg')\n",
        "img = cv.resize(img_big, dsize=(640, 480), interpolation=cv.INTER_CUBIC)"
      ],
      "metadata": {
        "id": "v-8nzRGE8qKk"
      },
      "execution_count": null,
      "outputs": []
    },
    {
      "cell_type": "code",
      "source": [
        "img = cv.resize(img, dsize=(1280, 960), interpolation=cv.INTER_CUBIC)"
      ],
      "metadata": {
        "id": "lySUDdFX9vL2"
      },
      "execution_count": null,
      "outputs": []
    },
    {
      "cell_type": "code",
      "source": [
        "gray = cv.cvtColor(img,cv.COLOR_BGR2GRAY)\n",
        "gray = np.float32(gray)\n",
        "corners = cv.goodFeaturesToTrack(gray, maxCorners=100, qualityLevel=0.1, minDistance=10)\n",
        "for c in corners:\n",
        "    x, y = c.ravel() \n",
        "    cv.circle(img,(x,y),3,(0,0,255),-1)\n",
        "cv_imshow(img)"
      ],
      "metadata": {
        "id": "sOEb7Iow-g3I"
      },
      "execution_count": null,
      "outputs": []
    },
    {
      "cell_type": "code",
      "source": [
        "import subprocess\n",
        "subprocess.call(\"pip install -U opencv-python\".split())\n"
      ],
      "metadata": {
        "id": "k7ptxcp1Bu15"
      },
      "execution_count": null,
      "outputs": []
    },
    {
      "cell_type": "code",
      "source": [
        "img_big = cv.imread('/content/gdrive/MyDrive/MachineVision/4_1_Ori.jpeg')\n",
        "img = cv.resize(img_big, dsize=(640, 480), interpolation=cv.INTER_CUBIC)"
      ],
      "metadata": {
        "id": "guvOzAY69sez"
      },
      "execution_count": null,
      "outputs": []
    },
    {
      "cell_type": "code",
      "source": [
        "gray= cv.cvtColor(img,cv.COLOR_BGR2GRAY)\n",
        "sift = cv.SIFT_create()\n",
        "kp = sift.detect(gray,None)\n",
        "img=cv.drawKeypoints(gray,kp,img, flags=cv.DRAW_MATCHES_FLAGS_DRAW_RICH_KEYPOINTS)\n",
        "cv_imshow(img)"
      ],
      "metadata": {
        "id": "6taBSGXNB0UH"
      },
      "execution_count": null,
      "outputs": []
    },
    {
      "cell_type": "code",
      "source": [
        "img_big = cv.imread('/content/gdrive/MyDrive/MachineVision/4_1_Ori.jpeg')\n",
        "img = cv.resize(img_big, dsize=(640, 480), interpolation=cv.INTER_CUBIC)"
      ],
      "metadata": {
        "id": "5U86OwxbB6f-"
      },
      "execution_count": null,
      "outputs": []
    },
    {
      "cell_type": "code",
      "source": [
        "img = cv.rotate(img,cv.ROTATE_90_CLOCKWISE)"
      ],
      "metadata": {
        "id": "5WNuYMyfDFL9"
      },
      "execution_count": null,
      "outputs": []
    },
    {
      "cell_type": "code",
      "source": [
        "gray= cv.cvtColor(img,cv.COLOR_BGR2GRAY)\n",
        "sift = cv.SIFT_create()\n",
        "kp = sift.detect(gray,None)\n",
        "img=cv.drawKeypoints(gray,kp,img, flags=cv.DRAW_MATCHES_FLAGS_DRAW_RICH_KEYPOINTS)\n",
        "cv_imshow(img)"
      ],
      "metadata": {
        "id": "I19rvmF7DIVy"
      },
      "execution_count": null,
      "outputs": []
    },
    {
      "cell_type": "code",
      "source": [
        "img_big = cv.imread('/content/gdrive/MyDrive/MachineVision/4_1_Ori.jpeg')\n",
        "img = cv.resize(img_big, dsize=(640, 480), interpolation=cv.INTER_CUBIC)"
      ],
      "metadata": {
        "id": "SUzCKMQqDKj3"
      },
      "execution_count": null,
      "outputs": []
    },
    {
      "cell_type": "code",
      "source": [
        "img = cv.resize(img, dsize=(1280, 960), interpolation=cv.INTER_CUBIC)"
      ],
      "metadata": {
        "id": "ZAWDsX4MDhGH"
      },
      "execution_count": null,
      "outputs": []
    },
    {
      "cell_type": "code",
      "source": [
        "gray= cv.cvtColor(img,cv.COLOR_BGR2GRAY)\n",
        "sift = cv.SIFT_create()\n",
        "kp = sift.detect(gray,None)\n",
        "img=cv.drawKeypoints(gray,kp,img, flags=cv.DRAW_MATCHES_FLAGS_DRAW_RICH_KEYPOINTS)\n",
        "cv_imshow(img)"
      ],
      "metadata": {
        "id": "96Xy2tzEDhp7"
      },
      "execution_count": null,
      "outputs": []
    },
    {
      "cell_type": "markdown",
      "source": [
        "\n",
        "\n",
        "---\n",
        "\n",
        "\n",
        "\n",
        "---\n",
        "\n",
        "\n",
        "\n",
        "---\n",
        "\n",
        "\n",
        "\n",
        "---\n",
        "\n"
      ],
      "metadata": {
        "id": "T4pceOjLF0gU"
      }
    },
    {
      "cell_type": "code",
      "source": [
        "img_big1 = cv.imread('/content/gdrive/MyDrive/MachineVision/4_3_Ori3.jpeg')\n",
        "img_big2 = cv.imread('/content/gdrive/MyDrive/MachineVision/4_3_Ori4.jpeg')"
      ],
      "metadata": {
        "id": "uTQTWRF8J5E7"
      },
      "execution_count": null,
      "outputs": []
    },
    {
      "cell_type": "code",
      "source": [
        "img_big1.shape"
      ],
      "metadata": {
        "id": "ZtdWo2raJ7QB"
      },
      "execution_count": null,
      "outputs": []
    },
    {
      "cell_type": "code",
      "source": [
        "img_big1 = cv.imread('/content/gdrive/MyDrive/MachineVision/4_3_Ori3.jpeg',cv.IMREAD_GRAYSCALE)\n",
        "img_big2 = cv.imread('/content/gdrive/MyDrive/MachineVision/4_3_Ori4.jpeg',cv.IMREAD_GRAYSCALE)\n",
        "\n",
        "img1 = cv.resize(img_big1, dsize=(640, 480), interpolation=cv.INTER_CUBIC)\n",
        "img2 = cv.resize(img_big2, dsize=(640, 480), interpolation=cv.INTER_CUBIC)"
      ],
      "metadata": {
        "id": "10jwSOJdDjj_"
      },
      "execution_count": null,
      "outputs": []
    },
    {
      "cell_type": "code",
      "source": [
        "kp1, des1 = sift.detectAndCompute(img1,None) \n",
        "kp2, des2 = sift.detectAndCompute(img2,None)"
      ],
      "metadata": {
        "id": "GdHNxLyjHLUP"
      },
      "execution_count": null,
      "outputs": []
    },
    {
      "cell_type": "code",
      "source": [
        "bf = cv.BFMatcher()\n",
        "matches = bf.match(des1,des2)\n",
        "matches = sorted(matches, key = lambda x:x.distance)\n",
        "img3 = cv.drawMatches(img1, kp1, img2, kp2, matches[:15], None,flags=cv.DrawMatchesFlags_NOT_DRAW_SINGLE_POINTS)\n",
        "cv_imshow(img3)\n"
      ],
      "metadata": {
        "id": "BOaPs2dNH1cc"
      },
      "execution_count": null,
      "outputs": []
    },
    {
      "cell_type": "code",
      "source": [
        "import matplotlib.pyplot as plt\n",
        "plt.plot(np.arange(128), des1[matches[0].queryIdx]) \n",
        "plt.plot(np.arange(128), des2[matches[0].trainIdx]), plt.show()"
      ],
      "metadata": {
        "id": "U15DBUY8H-Bk"
      },
      "execution_count": null,
      "outputs": []
    },
    {
      "cell_type": "code",
      "source": [
        "plt.plot(np.arange(128), des1[matches[0].queryIdx]) \n",
        "plt.plot(np.arange(128), des2[matches[60].trainIdx]), plt.show()"
      ],
      "metadata": {
        "id": "KA4sgLcgIO__"
      },
      "execution_count": null,
      "outputs": []
    },
    {
      "cell_type": "code",
      "source": [
        ""
      ],
      "metadata": {
        "id": "XNNWIgOLIkdU"
      },
      "execution_count": null,
      "outputs": []
    }
  ]
}